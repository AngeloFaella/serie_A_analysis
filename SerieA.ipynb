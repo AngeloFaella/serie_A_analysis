{
 "cells": [
  {
   "cell_type": "markdown",
   "metadata": {},
   "source": [
    "### Angelo Faella\n",
    "Last update: Feb 2020"
   ]
  },
  {
   "cell_type": "markdown",
   "metadata": {},
   "source": [
    "# What is More Important to Win the Serie A League: Attack or Defence?\n",
    "\n",
    "This is the project I made to complete the [Applied Plotting, Charting & Data Representation in Python](https://www.coursera.org/learn/python-plotting?specialization=data-science-python) course, which is the second course in the \"Applied Data Science With Python Specialization\" by University of Michigan on Coursera.\n",
    "\n",
    "If you want more info about this project, check out the [article]() I wrote about it.\n",
    "\n",
    "## Assignment\n",
    "*This assignment requires that you to find **at least** two datasets on the web which are related, and that you visualize these datasets to answer a question with the broad topic of **sport and athletics** (see below) for the region of **Italy**.*\n",
    "\n",
    "*You can merge these datasets with data from different regions if you like!*\n",
    "*You are welcome to upload datasets of your own as well, and link to them using a third party repository such as github, bitbucket, pastebin, etc. Please be aware of the Coursera terms of service with respect to intellectual property.*\n",
    "\n",
    "*As this assignment is for the whole course, you must incorporate principles discussed in the first week, such as having as high data-ink ratio (Tufte) and aligning with Cairo’s principles of truth, beauty, function, and insight.*\n",
    "\n",
    "Here are the assignment instructions:\n",
    "\n",
    " * State the region and the domain category that your data sets are about (e.g., **Italy** and **sport and athletics**).\n",
    " * You must state a question about the domain category and region that you identified as being interesting.\n",
    " * You must provide at least two links to available datasets. These could be links to files such as CSV or Excel files, or links to websites which might have data in tabular form, such as Wikipedia pages.\n",
    " * You must upload an image which addresses the research question you stated. In addition to addressing the question, this visual should follow Cairo's principles of truthfulness, functionality, beauty, and insightfulness.\n",
    " * You must contribute a short (1-2 paragraph) written justification of how your visualization addresses your stated research question."
   ]
  },
  {
   "cell_type": "markdown",
   "metadata": {},
   "source": [
    "# The Question\n",
    "What comes to mind thinking about the words sport and Italy? **Football.**\n",
    "\n",
    "Like most Italians, I am also a football fan. So I decided to find an answer once and for all to one of the most frequently asked questions in this sport:\n",
    "\n",
    "***What is more important to win the Serie A league: attack or defence?***"
   ]
  },
  {
   "cell_type": "markdown",
   "metadata": {},
   "source": [
    "# Getting the Data\n",
    "The data have been scraped from **legaseriea.it**. I scraped the final table of the league of the last 20 years (1999-2019). [Here]() is the scraper"
   ]
  },
  {
   "cell_type": "code",
   "execution_count": null,
   "metadata": {},
   "outputs": [],
   "source": [
    "import pandas as pd\n",
    "import numpy as np\n",
    "import matplotlib.pyplot as plt\n",
    "import matplotlib.patches as mpatches\n",
    "import seaborn as sns\n",
    "\n",
    "%matplotlib notebook"
   ]
  },
  {
   "cell_type": "markdown",
   "metadata": {},
   "source": [
    "These are the sources:"
   ]
  },
  {
   "cell_type": "code",
   "execution_count": null,
   "metadata": {},
   "outputs": [],
   "source": [
    "links = ['http://www.legaseriea.it/it/serie-a/classifica/2018-19',\n",
    "        'http://www.legaseriea.it/it/serie-a/classifica/2017-18',\n",
    "        'http://www.legaseriea.it/it/serie-a/classifica/2016-17',\n",
    "        'http://www.legaseriea.it/it/serie-a/classifica/2015-16',\n",
    "        'http://www.legaseriea.it/it/serie-a/classifica/2014-15',\n",
    "        'http://www.legaseriea.it/it/serie-a/classifica/2013-14',\n",
    "        'http://www.legaseriea.it/it/serie-a/classifica/2012-13',\n",
    "        'http://www.legaseriea.it/it/serie-a/classifica/2011-12',\n",
    "        'http://www.legaseriea.it/it/serie-a/classifica/2010-11',\n",
    "        'http://www.legaseriea.it/it/serie-a/classifica/2009-10',\n",
    "        'http://www.legaseriea.it/it/serie-a/classifica/2008-09',\n",
    "        'http://www.legaseriea.it/it/serie-a/classifica/2007-08',\n",
    "        'http://www.legaseriea.it/it/serie-a/classifica/2006-07',\n",
    "        'http://www.legaseriea.it/it/serie-a/classifica/2005-06',\n",
    "        'http://www.legaseriea.it/it/serie-a/classifica/2004-05',\n",
    "        'http://www.legaseriea.it/it/serie-a/classifica/2003-04',\n",
    "        'http://www.legaseriea.it/it/serie-a/classifica/2002-03',\n",
    "        'http://www.legaseriea.it/it/serie-a/classifica/2001-02',\n",
    "        'http://www.legaseriea.it/it/serie-a/classifica/2000-01',\n",
    "        'http://www.legaseriea.it/it/serie-a/classifica/1999-00']"
   ]
  },
  {
   "cell_type": "markdown",
   "metadata": {},
   "source": [
    "## Loading the Data"
   ]
  },
  {
   "cell_type": "code",
   "execution_count": null,
   "metadata": {},
   "outputs": [],
   "source": [
    "frames = []\n",
    "for link in links[-1::-1]:\n",
    "    frames.append(pd.read_csv('./serie_A_'+link[-7:]+'.csv', header=None))"
   ]
  },
  {
   "cell_type": "markdown",
   "metadata": {},
   "source": [
    "It will be useful to add a 'Season' columns to distinguish the 20 seasons."
   ]
  },
  {
   "cell_type": "code",
   "execution_count": null,
   "metadata": {},
   "outputs": [],
   "source": [
    "for df,link in zip(frames,links[-1::-1]):\n",
    "    df.columns = ['Pos','Name','PT','G','V','N','P','G1','V1','N1','P1','G2','V2','N2','P2','F','S']\n",
    "    df['Season'] = link[-7:]"
   ]
  },
  {
   "cell_type": "markdown",
   "metadata": {},
   "source": [
    "Let's merge all the dataframes into one "
   ]
  },
  {
   "cell_type": "code",
   "execution_count": null,
   "metadata": {
    "scrolled": true
   },
   "outputs": [],
   "source": [
    "df = pd.concat(frames)\n",
    "df.head()"
   ]
  },
  {
   "cell_type": "markdown",
   "metadata": {},
   "source": [
    "# Data Cleaning and Processing"
   ]
  },
  {
   "cell_type": "markdown",
   "metadata": {},
   "source": [
    "We have data on the goals scored and conceded for each team. This allows us to understand the offensive and defensive strength of a team. A statistic often used in football to represent these two characteristics in a single dimension is the **goal difference**, that is, the difference between these two factors. Let's add it as a new column."
   ]
  },
  {
   "cell_type": "code",
   "execution_count": null,
   "metadata": {
    "scrolled": true
   },
   "outputs": [],
   "source": [
    "df['GD'] = df['F'] - df['S']\n",
    "df.head()"
   ]
  },
  {
   "cell_type": "markdown",
   "metadata": {},
   "source": [
    "We must focus on the winning teams of the league. Let's create a new dataframe containing only the winning teams over the past 20 years. Furthermore, we'll discard the columns we don't need."
   ]
  },
  {
   "cell_type": "code",
   "execution_count": null,
   "metadata": {},
   "outputs": [],
   "source": [
    "winners = df[df['Pos']==1]\n",
    "winners = winners.reset_index().drop('index',axis=1)\n",
    "winners.drop(['Pos','PT','G','V','N','P','G1','V1','N1','P1','G2','V2','N2','P2'], axis=1, inplace=True)\n",
    "winners.head()"
   ]
  },
  {
   "cell_type": "markdown",
   "metadata": {},
   "source": [
    "# Exploratory Data Analysis"
   ]
  },
  {
   "cell_type": "markdown",
   "metadata": {},
   "source": [
    "How has the goal difference changed over time for these teams?"
   ]
  },
  {
   "cell_type": "code",
   "execution_count": null,
   "metadata": {},
   "outputs": [],
   "source": [
    "plt.figure()\n",
    "plt.plot(winners['Season'],winners['GD'], label='Goal Difference', zorder=1, linestyle='-')\n",
    "\n",
    "plt.ylabel('Goal Difference', fontsize=10, alpha=0.75)\n",
    "plt.xticks(rotation=60)\n",
    "plt.subplots_adjust(bottom=0.19)"
   ]
  },
  {
   "cell_type": "markdown",
   "metadata": {},
   "source": [
    "As we can see from the graph above, the goal difference of the winning teams has grown over the seasons. This may be due to:\n",
    "* An increase in goals scored\n",
    "* Fewer goals conceded\n",
    "* Both of the above\n",
    "\n",
    "Which of these factors was therefore decisive? Let's view the trend of the goals scored and conceded."
   ]
  },
  {
   "cell_type": "code",
   "execution_count": null,
   "metadata": {},
   "outputs": [],
   "source": [
    "plt.figure()\n",
    "plt.plot(winners['Season'],winners['F'], label='Goal Scored', zorder=1, linestyle='-')\n",
    "plt.plot(winners['Season'],winners['S'], label='Goal Conceded', zorder=1, linestyle='-')\n",
    "\n",
    "plt.ylabel('Goals', fontsize=10, alpha=0.75)\n",
    "plt.legend(fontsize=8)\n",
    "plt.xticks(rotation=60)\n",
    "plt.subplots_adjust(bottom=0.19)"
   ]
  },
  {
   "cell_type": "markdown",
   "metadata": {},
   "source": [
    "There seems to have been both an increase in goals scored and a decrease in goals conceded. Interesting. It means that the teams has improved both their offensive and defensive game.\n",
    "\n",
    "But which of these two factors is more decisive for the final victory? We have not yet answered the question. To find out, we must first determine, for each year, if the winning team concluded with the best defense in the league and/or with the best attack."
   ]
  },
  {
   "cell_type": "code",
   "execution_count": null,
   "metadata": {
    "scrolled": false
   },
   "outputs": [],
   "source": [
    "best = {}\n",
    "\n",
    "for g,f in df.groupby('Season'):\n",
    "    first = f[f['Pos']==1]\n",
    "    ba = False\n",
    "    bd = False\n",
    "    \n",
    "    if first['F'][0] == max(f['F']):\n",
    "        ba = True\n",
    "    if first['S'][0] == min(f['S']):\n",
    "        bd = True\n",
    "    \n",
    "    best[g] = {'BA':ba, 'BD':bd}\n",
    "    \n",
    "attack_defense = pd.DataFrame(best).T    \n",
    "attack_defense.head()"
   ]
  },
  {
   "cell_type": "markdown",
   "metadata": {},
   "source": [
    "At this point we just have to merge this dataframe with *winners* to get the definitive one. "
   ]
  },
  {
   "cell_type": "code",
   "execution_count": null,
   "metadata": {
    "scrolled": true
   },
   "outputs": [],
   "source": [
    "winners = pd.merge(winners, attack_defense, left_on='Season', right_index=True)\n",
    "winners.head()"
   ]
  },
  {
   "cell_type": "markdown",
   "metadata": {},
   "source": [
    "This frame contains the answer we are looking for. Let's find out directly by creating the final visual."
   ]
  },
  {
   "cell_type": "markdown",
   "metadata": {},
   "source": [
    "# Visualization"
   ]
  },
  {
   "cell_type": "markdown",
   "metadata": {},
   "source": [
    "The idea is to draw a line to show the **goal difference** for the winning team of every year. This will help the reader understand the attacking and defending strength of the teams. \n",
    "\n",
    "Overlying the line, we will draw a scatter plot to indicate if the team won with the **best defence** of the league (blue), the **best attack** of the league (orange), or both (green)."
   ]
  },
  {
   "cell_type": "code",
   "execution_count": null,
   "metadata": {},
   "outputs": [],
   "source": [
    "plt.figure()\n",
    "plt.plot(winners['Season'],winners['GD'], c='#393939', zorder=1, linestyle='-',alpha=0.9, linewidth=0.7)\n",
    "\n",
    "ba_x = winners[(winners['BA'] == True) & (winners['BD'] == False)]['Season']\n",
    "ba_y = winners[(winners['BA'] == True) & (winners['BD'] == False)]['GD']\n",
    "\n",
    "bd_x = winners[(winners['BD'] == True) & (winners['BA'] == False)]['Season']\n",
    "bd_y = winners[(winners['BD'] == True) & (winners['BA'] == False)]['GD']\n",
    "\n",
    "bdba_x = winners[(winners['BD'] == True) & (winners['BA'] == True)]['Season']\n",
    "bdba_y = winners[(winners['BD'] == True) & (winners['BA'] == True)]['GD']\n",
    "\n",
    "\n",
    "plt.scatter(bdba_x, bdba_y, c='#1BAD6D', s = 50, zorder=3, label='Winner had both the best attack and the best defence of the league')\n",
    "plt.scatter(ba_x, ba_y, c='#F08A4B', s = 50, zorder=2, label='Winner had the best attack of the league')\n",
    "plt.scatter(bd_x, bd_y, c='#36558F', s = 50, zorder=2, label='Winner had the best defence of the league') "
   ]
  },
  {
   "cell_type": "markdown",
   "metadata": {},
   "source": [
    "## Formatting"
   ]
  },
  {
   "cell_type": "markdown",
   "metadata": {},
   "source": [
    "First of all we need a title, labels, and a legend. Then we can make some adjustments to follow the Cairo's principles of truthfulness, functionality, beauty, and insightfulness"
   ]
  },
  {
   "cell_type": "code",
   "execution_count": null,
   "metadata": {},
   "outputs": [],
   "source": [
    "plt.gcf().suptitle(\"What's More Important To Win the Serie A League?\\n Attack VS Defence\", fontsize=11, alpha=0.8)\n",
    "plt.ylabel('Goal Difference', fontsize=10, alpha=0.75)\n",
    "plt.xlabel('Season', fontsize=10, alpha=0.75)\n",
    "\n",
    "# format ticks\n",
    "plt.xticks(rotation=60)\n",
    "plt.tick_params(axis='both', labelsize = 7)\n",
    "\n",
    "# remove chart box\n",
    "for spine in plt.gca().spines.values():\n",
    "    spine.set_visible(False)\n",
    "               \n",
    "# add legend\n",
    "plt.legend(fontsize = 6, loc = 'upper left')\n",
    "plt.subplots_adjust(bottom=0.19)"
   ]
  },
  {
   "cell_type": "markdown",
   "metadata": {},
   "source": [
    "Adding horizontal lines to help reading the values on the Y-axis."
   ]
  },
  {
   "cell_type": "code",
   "execution_count": null,
   "metadata": {},
   "outputs": [],
   "source": [
    "# draw horizontal lines \n",
    "y_lines = []\n",
    "i = 0\n",
    "for y in plt.yticks()[0]:\n",
    "    if i%2==0:\n",
    "        y_lines.append(y)\n",
    "    i += 1\n",
    "    \n",
    "y_lines = y_lines[1:4]\n",
    "y_lines\n",
    "\n",
    "for y in y_lines:\n",
    "    plt.gca().axhline(y, c='grey', alpha=0.3, linewidth = 0.5, linestyle = '--')"
   ]
  },
  {
   "cell_type": "markdown",
   "metadata": {},
   "source": [
    "# The Answer"
   ]
  },
  {
   "cell_type": "markdown",
   "metadata": {},
   "source": [
    "The visual clearly shows the answer to our question. \n",
    "\n",
    "**Having a great defence is critical to the final victory.**\n",
    "\n",
    "In fact, as can be seen, in 15 of the past 20 years the winning team had the best defence in the league, including:\n",
    "* 8 times with only the best defence (blue dots)\n",
    "* 7 times with both best attack and best defence (green dots). \n",
    "\n",
    "Only 5 times (1999–00, 2000–01, 2003–04, 2005–06, 2006–07) in the last 20 years the winner did not have the best defence in the league."
   ]
  },
  {
   "cell_type": "markdown",
   "metadata": {},
   "source": [
    "<img src=\"Final_chart.png\">"
   ]
  }
 ],
 "metadata": {
  "kernelspec": {
   "display_name": "Python 3",
   "language": "python",
   "name": "python3"
  },
  "language_info": {
   "codemirror_mode": {
    "name": "ipython",
    "version": 3
   },
   "file_extension": ".py",
   "mimetype": "text/x-python",
   "name": "python",
   "nbconvert_exporter": "python",
   "pygments_lexer": "ipython3",
   "version": "3.7.4"
  }
 },
 "nbformat": 4,
 "nbformat_minor": 1
}
